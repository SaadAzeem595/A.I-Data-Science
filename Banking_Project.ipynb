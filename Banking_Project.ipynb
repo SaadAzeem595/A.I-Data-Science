{
 "cells": [
  {
   "cell_type": "code",
   "execution_count": 15,
   "id": "c347dd24-64cf-4c0e-94fe-ff6264ee75bf",
   "metadata": {},
   "outputs": [
    {
     "name": "stdout",
     "output_type": "stream",
     "text": [
      "Deposited $500. New Balance: $500\n",
      "Witdraw $200. New Balance: $300\n",
      "Account Balance: $300\n",
      "Transaction history for Saad: \n",
      "Deposited : $500\n",
      "Witdraw : $200\n"
     ]
    }
   ],
   "source": [
    "def create_account(name, initial_balance):\n",
    "    return {\n",
    "        'name' : name,\n",
    "        'balance' : initial_balance,\n",
    "        'transaction' : []\n",
    "    }\n",
    "def deposit(account, amount):\n",
    "    if amount > 0:\n",
    "        account['balance'] += amount\n",
    "        account['transaction'].append(f\"Deposited : ${amount}\")\n",
    "        print(f\"Deposited ${amount}. New Balance: ${account['balance']}\")\n",
    "    else:\n",
    "        print(\"Deposit must be positive\")\n",
    "    return account\n",
    "def withdraw(account,amount):\n",
    "    if amount >0 and amount < account['balance']:\n",
    "        account['balance'] -= amount\n",
    "        account['transaction'].append(f\"Witdraw : ${amount}\")\n",
    "        print(f\"Witdraw ${amount}. New Balance: ${account['balance']}\")\n",
    "    elif amount > account['balance']:\n",
    "        print(\"Insufficent Balance\")\n",
    "    else:\n",
    "        print(\"Witdraw must be positive\")\n",
    "    return account\n",
    "def check_balance(account):\n",
    "    return f\"Account Balance: ${account['balance']}\"\n",
    "def print_transactions(account):\n",
    "    if account['transaction']:\n",
    "        print(f\"Transaction history for {account['name']}: \")\n",
    "        for transaction in account['transaction']:\n",
    "            print(transaction)\n",
    "    else:\n",
    "        print(\"No transaction yet\")\n",
    "        \n",
    "account = create_account(\"Saad\",0)\n",
    "\n",
    "account = deposit(account,500)\n",
    "\n",
    "account = withdraw(account,200)\n",
    "\n",
    "print(check_balance(account))\n",
    "\n",
    "print_transaction(account)\n"
   ]
  },
  {
   "cell_type": "code",
   "execution_count": null,
   "id": "8d56df38-781f-4ddb-a76d-e553aedb431c",
   "metadata": {},
   "outputs": [],
   "source": []
  }
 ],
 "metadata": {
  "kernelspec": {
   "display_name": "Python 3 (ipykernel)",
   "language": "python",
   "name": "python3"
  },
  "language_info": {
   "codemirror_mode": {
    "name": "ipython",
    "version": 3
   },
   "file_extension": ".py",
   "mimetype": "text/x-python",
   "name": "python",
   "nbconvert_exporter": "python",
   "pygments_lexer": "ipython3",
   "version": "3.12.7"
  }
 },
 "nbformat": 4,
 "nbformat_minor": 5
}
