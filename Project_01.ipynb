{
 "cells": [
  {
   "cell_type": "code",
   "execution_count": 5,
   "id": "9da716b6-df1b-4309-bef0-ae8794eee55c",
   "metadata": {},
   "outputs": [],
   "source": [
    "import pandas as pd\n",
    "import numpy as np\n",
    "import seaborn as sns\n",
    "import matplotlib.pyplot as plt\n"
   ]
  },
  {
   "cell_type": "code",
   "execution_count": 6,
   "id": "b6649eb1-d78c-430f-8226-3292964b14b0",
   "metadata": {},
   "outputs": [
    {
     "data": {
      "text/html": [
       "<div>\n",
       "<style scoped>\n",
       "    .dataframe tbody tr th:only-of-type {\n",
       "        vertical-align: middle;\n",
       "    }\n",
       "\n",
       "    .dataframe tbody tr th {\n",
       "        vertical-align: top;\n",
       "    }\n",
       "\n",
       "    .dataframe thead th {\n",
       "        text-align: right;\n",
       "    }\n",
       "</style>\n",
       "<table border=\"1\" class=\"dataframe\">\n",
       "  <thead>\n",
       "    <tr style=\"text-align: right;\">\n",
       "      <th></th>\n",
       "      <th>CustomerID</th>\n",
       "      <th>CustomerName</th>\n",
       "      <th>Email</th>\n",
       "      <th>Gender</th>\n",
       "      <th>Age</th>\n",
       "      <th>GeographyID</th>\n",
       "    </tr>\n",
       "  </thead>\n",
       "  <tbody>\n",
       "    <tr>\n",
       "      <th>0</th>\n",
       "      <td>1</td>\n",
       "      <td>Emma Anderson</td>\n",
       "      <td>emma.anderson@example.com</td>\n",
       "      <td>Male</td>\n",
       "      <td>50</td>\n",
       "      <td>2</td>\n",
       "    </tr>\n",
       "    <tr>\n",
       "      <th>1</th>\n",
       "      <td>2</td>\n",
       "      <td>Sarah Brown</td>\n",
       "      <td>sarah.brown@example.com</td>\n",
       "      <td>Female</td>\n",
       "      <td>37</td>\n",
       "      <td>4</td>\n",
       "    </tr>\n",
       "    <tr>\n",
       "      <th>2</th>\n",
       "      <td>3</td>\n",
       "      <td>Robert Hernandez</td>\n",
       "      <td>robert.hernandez@example.com</td>\n",
       "      <td>Female</td>\n",
       "      <td>26</td>\n",
       "      <td>6</td>\n",
       "    </tr>\n",
       "    <tr>\n",
       "      <th>3</th>\n",
       "      <td>4</td>\n",
       "      <td>David Garcia</td>\n",
       "      <td>david.garcia@example.com</td>\n",
       "      <td>Male</td>\n",
       "      <td>25</td>\n",
       "      <td>8</td>\n",
       "    </tr>\n",
       "    <tr>\n",
       "      <th>4</th>\n",
       "      <td>5</td>\n",
       "      <td>Emma Miller</td>\n",
       "      <td>emma.miller@example.com</td>\n",
       "      <td>Female</td>\n",
       "      <td>41</td>\n",
       "      <td>4</td>\n",
       "    </tr>\n",
       "    <tr>\n",
       "      <th>...</th>\n",
       "      <td>...</td>\n",
       "      <td>...</td>\n",
       "      <td>...</td>\n",
       "      <td>...</td>\n",
       "      <td>...</td>\n",
       "      <td>...</td>\n",
       "    </tr>\n",
       "    <tr>\n",
       "      <th>95</th>\n",
       "      <td>96</td>\n",
       "      <td>Emily Gonzalez</td>\n",
       "      <td>emily.gonzalez@example.com</td>\n",
       "      <td>Female</td>\n",
       "      <td>38</td>\n",
       "      <td>10</td>\n",
       "    </tr>\n",
       "    <tr>\n",
       "      <th>96</th>\n",
       "      <td>97</td>\n",
       "      <td>Emily Rodriguez</td>\n",
       "      <td>emily.rodriguez@example.com</td>\n",
       "      <td>Female</td>\n",
       "      <td>51</td>\n",
       "      <td>3</td>\n",
       "    </tr>\n",
       "    <tr>\n",
       "      <th>97</th>\n",
       "      <td>98</td>\n",
       "      <td>Chris Lopez</td>\n",
       "      <td>chris.lopez@example.com</td>\n",
       "      <td>Female</td>\n",
       "      <td>55</td>\n",
       "      <td>10</td>\n",
       "    </tr>\n",
       "    <tr>\n",
       "      <th>98</th>\n",
       "      <td>99</td>\n",
       "      <td>Laura Hernandez</td>\n",
       "      <td>laura.hernandez@example.com</td>\n",
       "      <td>Male</td>\n",
       "      <td>41</td>\n",
       "      <td>5</td>\n",
       "    </tr>\n",
       "    <tr>\n",
       "      <th>99</th>\n",
       "      <td>100</td>\n",
       "      <td>Jane Brown</td>\n",
       "      <td>jane.brown@example.com</td>\n",
       "      <td>Female</td>\n",
       "      <td>45</td>\n",
       "      <td>10</td>\n",
       "    </tr>\n",
       "  </tbody>\n",
       "</table>\n",
       "<p>100 rows × 6 columns</p>\n",
       "</div>"
      ],
      "text/plain": [
       "    CustomerID      CustomerName                         Email  Gender  Age  \\\n",
       "0            1     Emma Anderson     emma.anderson@example.com    Male   50   \n",
       "1            2       Sarah Brown       sarah.brown@example.com  Female   37   \n",
       "2            3  Robert Hernandez  robert.hernandez@example.com  Female   26   \n",
       "3            4      David Garcia      david.garcia@example.com    Male   25   \n",
       "4            5       Emma Miller       emma.miller@example.com  Female   41   \n",
       "..         ...               ...                           ...     ...  ...   \n",
       "95          96    Emily Gonzalez    emily.gonzalez@example.com  Female   38   \n",
       "96          97   Emily Rodriguez   emily.rodriguez@example.com  Female   51   \n",
       "97          98       Chris Lopez       chris.lopez@example.com  Female   55   \n",
       "98          99   Laura Hernandez   laura.hernandez@example.com    Male   41   \n",
       "99         100        Jane Brown        jane.brown@example.com  Female   45   \n",
       "\n",
       "    GeographyID  \n",
       "0             2  \n",
       "1             4  \n",
       "2             6  \n",
       "3             8  \n",
       "4             4  \n",
       "..          ...  \n",
       "95           10  \n",
       "96            3  \n",
       "97           10  \n",
       "98            5  \n",
       "99           10  \n",
       "\n",
       "[100 rows x 6 columns]"
      ]
     },
     "execution_count": 6,
     "metadata": {},
     "output_type": "execute_result"
    }
   ],
   "source": [
    "data= pd.read_excel(\"customers.xlsx\")\n",
    "data"
   ]
  },
  {
   "cell_type": "code",
   "execution_count": 7,
   "id": "226b2b71-3585-4f10-8ad5-88e44f7fca05",
   "metadata": {},
   "outputs": [
    {
     "data": {
      "text/plain": [
       "CustomerID      0\n",
       "CustomerName    0\n",
       "Email           0\n",
       "Gender          0\n",
       "Age             0\n",
       "GeographyID     0\n",
       "dtype: int64"
      ]
     },
     "execution_count": 7,
     "metadata": {},
     "output_type": "execute_result"
    }
   ],
   "source": [
    "data.isna().sum()"
   ]
  },
  {
   "cell_type": "code",
   "execution_count": 8,
   "id": "21fd9660-b599-4164-a370-c8c1c35517e7",
   "metadata": {},
   "outputs": [
    {
     "data": {
      "text/plain": [
       "Gender\n",
       "Female    42.981481\n",
       "Male      40.826087\n",
       "Name: Age, dtype: float64"
      ]
     },
     "execution_count": 8,
     "metadata": {},
     "output_type": "execute_result"
    }
   ],
   "source": [
    "average_age_by_gender = data.groupby(\"Gender\")[\"Age\"].mean()\n",
    "average_age_by_gender"
   ]
  },
  {
   "cell_type": "code",
   "execution_count": 9,
   "id": "88a0bac3-0d9f-402a-ba7e-863a610aee82",
   "metadata": {},
   "outputs": [
    {
     "name": "stdout",
     "output_type": "stream",
     "text": [
      "Average Age: 41.99\n",
      "Youngest Customer Age: 18\n",
      "Oldest Customer Age: 69\n"
     ]
    },
    {
     "data": {
      "image/png": "[encoded data removed]",
      "text/plain": [
       "<Figure size 640x480 with 1 Axes>"
      ]
     },
     "metadata": {},
     "output_type": "display_data"
    }
   ],
   "source": [
    "average_age = data[\"Age\"].mean()\n",
    "min_age = data[\"Age\"].min()\n",
    "max_age = data[\"Age\"].max()\n",
    "\n",
    "print(f\"Average Age: {average_age:.2f}\")\n",
    "print(f\"Youngest Customer Age: {min_age}\")\n",
    "print(f\"Oldest Customer Age: {max_age}\")\n",
    "\n",
    "plt.hist(data[\"Age\"], bins=10, edgecolor=\"black\", alpha=0.7)\n",
    "plt.xlabel(\"Age\")\n",
    "plt.ylabel(\"Number of Customers\")\n",
    "plt.title(\"Age Distribution of Customers\")\n",
    "plt.show()\n"
   ]
  },
  {
   "cell_type": "code",
   "execution_count": 10,
   "id": "722bc8e1-cecb-4342-adf8-a2d6454dbc68",
   "metadata": {},
   "outputs": [
    {
     "name": "stdout",
     "output_type": "stream",
     "text": [
      "Top 5 Most Common First Names:\n",
      "Emma: 10\n",
      "David: 9\n",
      "Olivia: 9\n",
      "James: 8\n",
      "John: 8\n"
     ]
    }
   ],
   "source": [
    "from collections import Counter\n",
    "\n",
    "data[\"FirstName\"] = data[\"CustomerName\"].apply(lambda x: x.split()[0])\n",
    "name_counts = Counter(data[\"FirstName\"])\n",
    "most_common_names = name_counts.most_common(5)\n",
    "\n",
    "print(\"Top 5 Most Common First Names:\")\n",
    "for name, count in most_common_names:\n",
    "    print(f\"{name}: {count}\")\n"
   ]
  },
  {
   "cell_type": "code",
   "execution_count": 11,
   "id": "fa6d5b9c-a01b-4b8f-b93b-8cd223a00520",
   "metadata": {},
   "outputs": [
    {
     "name": "stdout",
     "output_type": "stream",
     "text": [
      "Customer Distribution by GeographyID:\n",
      "   GeographyID  CustomerCount\n",
      "0            4             18\n",
      "1            5             12\n",
      "2            2             11\n",
      "3           10             10\n",
      "4            1             10\n",
      "5            6              9\n",
      "6            7              9\n",
      "7            8              8\n",
      "8            9              8\n",
      "9            3              5\n",
      "\n",
      "Region with Highest Customers: GeographyID 4 (18 customers)\n",
      "Region with Lowest Customers: GeographyID 3 (5 customers)\n"
     ]
    }
   ],
   "source": [
    "\n",
    "customer_distribution = data[\"GeographyID\"].value_counts().reset_index()\n",
    "customer_distribution.columns = [\"GeographyID\", \"CustomerCount\"]\n",
    "\n",
    "# Display results\n",
    "print(\"Customer Distribution by GeographyID:\")\n",
    "print(customer_distribution)\n",
    "\n",
    "# Identify highest and lowest presence regions\n",
    "max_region = customer_distribution.iloc[0]  # Highest\n",
    "min_region = customer_distribution.iloc[-1]  # Lowest\n",
    "\n",
    "print(f\"\\nRegion with Highest Customers: GeographyID {max_region['GeographyID']} ({max_region['CustomerCount']} customers)\")\n",
    "print(f\"Region with Lowest Customers: GeographyID {min_region['GeographyID']} ({min_region['CustomerCount']} customers)\")\n"
   ]
  },
  {
   "cell_type": "code",
   "execution_count": 22,
   "id": "02e45c1b-5066-4714-9216-dd64a2251762",
   "metadata": {},
   "outputs": [
    {
     "name": "stdout",
     "output_type": "stream",
     "text": [
      "Duplicate Customers Based on Email:\n",
      "Empty DataFrame\n",
      "Columns: [CustomerID, CustomerName, Email]\n",
      "Index: []\n",
      "\n",
      "Duplicate Customers Based on Name:\n",
      "Empty DataFrame\n",
      "Columns: [CustomerID, CustomerName, Email]\n",
      "Index: []\n"
     ]
    }
   ],
   "source": [
    "duplicate_emails = data[data.duplicated(subset=\"Email\", keep=False)]\n",
    "duplicate_names = data[data.duplicated(subset=\"CustomerName\", keep=False)]\n",
    "print(\"Duplicate Customers Based on Email:\")\n",
    "print(duplicate_emails[[\"CustomerID\", \"CustomerName\", \"Email\"]])\n",
    "\n",
    "print(\"\\nDuplicate Customers Based on Name:\")\n",
    "print(duplicate_names[[\"CustomerID\", \"CustomerName\", \"Email\"]])"
   ]
  },
  {
   "cell_type": "code",
   "execution_count": 28,
   "id": "7ec79804-e447-44c5-bf6b-9bd2d3ad6c08",
   "metadata": {},
   "outputs": [
    {
     "name": "stdout",
     "output_type": "stream",
     "text": [
      "Average Customer Age per GeographyID:\n",
      "   GeographyID  AverageAge\n",
      "0            1   45.200000\n",
      "1            2   47.818182\n",
      "2            3   49.800000\n",
      "3            4   42.833333\n",
      "4            5   34.416667\n",
      "5            6   43.111111\n",
      "6            7   44.333333\n",
      "7            8   32.500000\n",
      "8            9   37.625000\n",
      "9           10   44.000000\n"
     ]
    }
   ],
   "source": [
    "avg_age_per_region = data.groupby(\"GeographyID\")[\"Age\"].mean().reset_index()\n",
    "\n",
    "# Rename columns for clarity\n",
    "avg_age_per_region.columns = [\"GeographyID\", \"AverageAge\"]\n",
    "\n",
    "# Display results\n",
    "print(\"Average Customer Age per GeographyID:\")\n",
    "print(avg_age_per_region)"
   ]
  },
  {
   "cell_type": "code",
   "execution_count": 30,
   "id": "671d4647-a09b-4d26-91be-ca68592a0f5a",
   "metadata": {},
   "outputs": [
    {
     "name": "stdout",
     "output_type": "stream",
     "text": [
      "Gender Distribution per GeographyID:\n",
      "   GeographyID  Female_Count  Male_Count\n",
      "0            1             3           7\n",
      "1            2             7           4\n",
      "2            3             2           3\n",
      "3            4             9           9\n",
      "4            5             8           4\n",
      "5            6             7           2\n",
      "6            7             5           4\n",
      "7            8             4           4\n",
      "8            9             4           4\n",
      "9           10             5           5\n"
     ]
    }
   ],
   "source": [
    "gender_distribution = data.pivot_table(index=\"GeographyID\", columns=\"Gender\", values=\"CustomerID\", aggfunc=\"count\", fill_value=0)\n",
    "\n",
    "# Rename columns for clarity\n",
    "gender_distribution.columns = [\"Female_Count\", \"Male_Count\"]\n",
    "\n",
    "# Reset index for readability\n",
    "gender_distribution = gender_distribution.reset_index()\n",
    "\n",
    "# Display results\n",
    "print(\"Gender Distribution per GeographyID:\")\n",
    "print(gender_distribution)"
   ]
  },
  {
   "cell_type": "code",
   "execution_count": 24,
   "id": "a17060ba-1a2b-42c6-921b-d2303d6bd23a",
   "metadata": {},
   "outputs": [
    {
     "name": "stdout",
     "output_type": "stream",
     "text": [
      "Most Common Age Group per GeographyID:\n",
      "   GeographyID AgeGroup\n",
      "0            1    60-69\n",
      "1            2    40-49\n",
      "2            3    50-59\n",
      "3            4    40-49\n",
      "4            5    20-29\n",
      "5            6    20-29\n",
      "6            7    30-39\n",
      "7            8    20-29\n",
      "8            9    20-29\n",
      "9           10    30-39\n"
     ]
    }
   ],
   "source": [
    "bins = [0, 19, 29, 39, 49, 59, 69, 100]  # Age intervals\n",
    "labels = [\"<20\", \"20-29\", \"30-39\", \"40-49\", \"50-59\", \"60-69\", \"70+\"] \n",
    "\n",
    "# Create a new column for Age Group\n",
    "data[\"AgeGroup\"] = pd.cut(data[\"Age\"], bins=bins, labels=labels, right=True)\n",
    "\n",
    "# Find the most common age group per GeographyID\n",
    "most_common_age_group = data.groupby(\"GeographyID\")[\"AgeGroup\"].agg(lambda x: x.mode()[0])\n",
    "\n",
    "# Display results\n",
    "print(\"Most Common Age Group per GeographyID:\")\n",
    "print(most_common_age_group.reset_index())\n"
   ]
  },
  {
   "cell_type": "code",
   "execution_count": 26,
   "id": "cfe6b5fe-77dc-44c9-b0fe-b11f820167c5",
   "metadata": {},
   "outputs": [
    {
     "name": "stdout",
     "output_type": "stream",
     "text": [
      "Email Provider Distribution:\n",
      "EmailDomain\n",
      "example.com    100\n",
      "Name: count, dtype: int64\n"
     ]
    }
   ],
   "source": [
    "\n",
    "# Extract email domain (everything after '@')\n",
    "data[\"EmailDomain\"] = data[\"Email\"].apply(lambda x: x.split(\"@\")[-1])\n",
    "\n",
    "# Count occurrences of each domain\n",
    "email_domain_counts = data[\"EmailDomain\"].value_counts()\n",
    "\n",
    "# Display results\n",
    "print(\"Email Provider Distribution:\")\n",
    "print(email_domain_counts)\n"
   ]
  },
  {
   "cell_type": "code",
   "execution_count": 32,
   "id": "0b7dcb95-34e8-4244-b219-944e7939c789",
   "metadata": {},
   "outputs": [
    {
     "name": "stdout",
     "output_type": "stream",
     "text": [
      "Empty DataFrame\n",
      "Columns: [CustomerName, Email]\n",
      "Index: []\n"
     ]
    }
   ],
   "source": [
    "duplicate_names = data[data.duplicated(subset=[\"CustomerName\"], keep=False)]\n",
    "print(duplicate_names[[\"CustomerName\", \"Email\"]])\n"
   ]
  },
  {
   "cell_type": "code",
   "execution_count": 34,
   "id": "d1cdcefe-f0dd-4db6-9823-bc05aa42dbad",
   "metadata": {},
   "outputs": [
    {
     "name": "stdout",
     "output_type": "stream",
     "text": [
      "Youngest Customers per Region:\n",
      "     GeographyID      CustomerName  Age\n",
      "19            1     David Johnson   22\n",
      "52            2       Emma Thomas   19\n",
      "49            3     Olivia Miller   36\n",
      "32            4      David Thomas   22\n",
      "53            5  Michael Gonzalez   24\n",
      "79            6       Laura Jones   25\n",
      "5             7  Daniel Rodriguez   31\n",
      "7             8    James Gonzalez   18\n",
      "27            9       Emily Davis   18\n",
      "75           10     Michael Lopez   26\n",
      "Oldest Customers per Region:\n",
      "     GeographyID       CustomerName  Age\n",
      "41            1      John Gonzalez   69\n",
      "39            2      Olivia Thomas   67\n",
      "35            3       Emma Johnson   63\n",
      "90            4         John Brown   62\n",
      "38            5        Jane Miller   64\n",
      "46            6      Sophia Thomas   69\n",
      "84            7     Jane Hernandez   68\n",
      "61            8  Michael Hernandez   60\n",
      "55            9       Sophia Davis   66\n",
      "50           10      Michael Davis   63\n"
     ]
    }
   ],
   "source": [
    "youngest = data.loc[data.groupby(\"GeographyID\")[\"Age\"].idxmin(), [\"GeographyID\", \"CustomerName\", \"Age\"]]\n",
    "oldest = data.loc[data.groupby(\"GeographyID\")[\"Age\"].idxmax(), [\"GeographyID\", \"CustomerName\", \"Age\"]]\n",
    "print(\"Youngest Customers per Region:\\n\", youngest)\n",
    "print(\"Oldest Customers per Region:\\n\", oldest)"
   ]
  },
  {
   "cell_type": "code",
   "execution_count": null,
   "id": "4641793a-aa6e-472f-b23c-2e68d0ccb0d9",
   "metadata": {},
   "outputs": [],
   "source": []
  }
 ],
 "metadata": {
  "kernelspec": {
   "display_name": "Python 3 (ipykernel)",
   "language": "python",
   "name": "python3"
  },
  "language_info": {
   "codemirror_mode": {
    "name": "ipython",
    "version": 3
   },
   "file_extension": ".py",
   "mimetype": "text/x-python",
   "name": "python",
   "nbconvert_exporter": "python",
   "pygments_lexer": "ipython3",
   "version": "3.12.7"
  }
 },
 "nbformat": 4,
 "nbformat_minor": 5
}
