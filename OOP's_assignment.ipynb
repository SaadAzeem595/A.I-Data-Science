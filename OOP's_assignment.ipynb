{
 "cells": [
  {
   "cell_type": "markdown",
   "id": "3e473c91-807b-465e-8019-1f344a5bcb94",
   "metadata": {},
   "source": [
    "### 1. Write a Python program to create a class called \"Person\" with properties for name, age and country. Include a method to display the person's details. Create two instances of the 'Person' class and display their details.\n"
   ]
  },
  {
   "cell_type": "code",
   "execution_count": 29,
   "id": "5fffe0a4-3982-4698-857a-2410816df96a",
   "metadata": {},
   "outputs": [
    {
     "name": "stdout",
     "output_type": "stream",
     "text": [
      "Detail of Person 1 is:\n",
      " Name : SAAD\n",
      " Age : 22\n",
      " Country : Pakistan\n",
      "\n",
      "Detail of Person 2 is:\n",
      " Name : ALI\n",
      " Age : 24\n",
      " Country : Iran\n"
     ]
    }
   ],
   "source": [
    "class Person:\n",
    "    def __init__(self,name,age,country):\n",
    "        self.name= name\n",
    "        self.age = age\n",
    "        self.country = country\n",
    "    def display_details(self):\n",
    "        print(f\" Name : {self.name}\")\n",
    "        print(f\" Age : {self.age}\")\n",
    "        print(f\" Country : {self.country}\")\n",
    "\n",
    "person1 = Person(\"SAAD\" , 22, \"Pakistan\")\n",
    "person2 = Person(\"ALI\", 24, \"Iran\")\n",
    "\n",
    "print(\"Detail of Person 1 is:\")\n",
    "person1.display_details()\n",
    "\n",
    "print(\"\\nDetail of Person 2 is:\")\n",
    "person2.display_details()\n",
    "\n"
   ]
  },
  {
   "cell_type": "markdown",
   "id": "67eb966a-b452-4c7b-827f-5e4eeb1c7ad9",
   "metadata": {},
   "source": [
    "### 2. Write a Python program to create a class called 'Rectangle' with properties for width and height. Include two methods to calculate rectangle area and perimeter. Create an instance of the 'Rectangle' class and calculate its area and perimeter. "
   ]
  },
  {
   "cell_type": "code",
   "execution_count": 23,
   "id": "1a6134a7-f7ff-4ac5-b36e-b5359c83cf83",
   "metadata": {},
   "outputs": [
    {
     "name": "stdout",
     "output_type": "stream",
     "text": [
      "Area of rectangle is : 35\n",
      "Perimeter of rectangle is : 24\n"
     ]
    }
   ],
   "source": [
    "class Rectangle:\n",
    "    def __init__(self, width, height):\n",
    "        self.width = width\n",
    "        self.height = height\n",
    "        \n",
    "    def rectangle_area(self):\n",
    "        return self.width * self.height\n",
    "        \n",
    "    def rectangle_perimeter(self):\n",
    "        return 2 *( self.width + self.height)\n",
    "        \n",
    "rectangle= Rectangle( 5,7)\n",
    "\n",
    "print(\"Area of rectangle is :\", rectangle.rectangle_area())\n",
    "\n",
    "print(\"Perimeter of rectangle is :\", rectangle.rectangle_perimeter())\n"
   ]
  },
  {
   "cell_type": "markdown",
   "id": "38df20fd-546c-4ff3-b66b-6a1cd3319af3",
   "metadata": {},
   "source": [
    "### 3. Write a Python program that creates a class called 'Vehicle' with properties for make, model, and year. Include a method to display vehicle details. Create a subclass called 'Car' that inherits from the 'Vehicle' class and includes an additional property for the number of doors. Override the display method to include the number of doors. \n"
   ]
  },
  {
   "cell_type": "code",
   "execution_count": 55,
   "id": "f68a53b7-21e8-4265-81aa-c88da308a8f7",
   "metadata": {},
   "outputs": [
    {
     "name": "stdout",
     "output_type": "stream",
     "text": [
      "Vehicle:\n",
      " Make : Toyota\n",
      " Model : Corolla\n",
      " Year : 2012\n",
      "Car :\n",
      " Make : Honda\n",
      " Model : Civic\n",
      " Year : 2015\n",
      "number_of_doors is : 4\n"
     ]
    }
   ],
   "source": [
    "class Vehicle:\n",
    "    def __init__(self,make,model,year):\n",
    "        self.make = make\n",
    "        self.model = model\n",
    "        self.year = year\n",
    "    def display_details(self):\n",
    "        print(f\" Make : {self.make}\")\n",
    "        print(f\" Model : {self.model}\")\n",
    "        print(f\" Year : {self.year}\")\n",
    "\n",
    "class Car(Vehicle):\n",
    "    def __init__(self,make,model,year,number_of_doors):\n",
    "        super().__init__(make, model, year)\n",
    "        self.number_of_doors = number_of_doors\n",
    "    def display_details(self):\n",
    "        super().display_details()\n",
    "        print(f\"number_of_doors is : {self.number_of_doors}\")\n",
    "\n",
    "vehicle = Vehicle(\"Toyota\", \"Corolla\", 2012)\n",
    "print(\"Vehicle:\")\n",
    "vehicle.display_details()\n",
    "        \n",
    "car = Car(\"Honda\", \"Civic\", 2015, 4)\n",
    "print(\"Car :\")\n",
    "car.display_details()\n",
    "    \n"
   ]
  },
  {
   "cell_type": "markdown",
   "id": "7869c926-f425-4a57-be8b-98656fda9653",
   "metadata": {},
   "source": [
    "### 4. Write a Python program that creates a class called \"BankAccount\" with properties for account number and balance. Include methods to deposit and withdraw money from the account. Create some instances of the \"BankAccount\" class, deposit some money, and withdraw a portion of it. \n"
   ]
  },
  {
   "cell_type": "code",
   "execution_count": 1,
   "id": "bc51a5a5-bc45-4fa8-a713-043b25e9d976",
   "metadata": {},
   "outputs": [
    {
     "name": "stdout",
     "output_type": "stream",
     "text": [
      "Initial_Balance\n",
      "Account # 1234 Balance :$100\n",
      "\n",
      "Transaction\n",
      "Deposited amount is $200 into 1234. New Balance is $300\n",
      "Withdraw amount is $250 from 1234. New balance is 50\n",
      "\n",
      "Final_Balance\n",
      "Account # 1234 Balance :$50\n"
     ]
    }
   ],
   "source": [
    "class BankAccount:\n",
    "    def __init__(self,account_number,balance=0):\n",
    "        self.account_number = account_number\n",
    "        self.balance = balance\n",
    "    def deposit(self,amount):\n",
    "        if amount > 0:\n",
    "            self.balance += amount\n",
    "            print(f\"Deposited amount is ${amount} into {self.account_number}. New Balance is ${self.balance}\")\n",
    "        else:\n",
    "            Print(\"Deposited amount must be Postive\")\n",
    "\n",
    "    def withdraw(self,amount):\n",
    "        if amount > 0:\n",
    "            if amount <= self.balance:\n",
    "                self.balance -= amount\n",
    "                print(f\"Withdraw amount is ${amount} from {self.account_number}. New balance is {self.balance}\")\n",
    "            else:\n",
    "                print(\"Insufficent Balance\")\n",
    "        else:\n",
    "            print(\"Withraw amount must be Postive\")\n",
    "    def display_balance(self):\n",
    "         print(f\"Account # {self.account_number} Balance :${self.balance}\")\n",
    "         \n",
    "account1 = BankAccount(\"1234\",100)\n",
    "\n",
    "print(\"Initial_Balance\")\n",
    "account1.display_balance()\n",
    "\n",
    "print(\"\\nTransaction\")\n",
    "account1.deposit(200)\n",
    "account1.withdraw(250)\n",
    "\n",
    "print(\"\\nFinal_Balance\")\n",
    "account1.display_balance()\n",
    "        \n"
   ]
  },
  {
   "cell_type": "markdown",
   "id": "6366561a-94b7-4d87-9e2c-1cfb5155c16e",
   "metadata": {},
   "source": [
    "### 5. Write a Python program that creates a class called 'Shape' with a method tocalculate the area. Create two subclasses, 'Circle' and 'Triangle', that inherit fromthe 'Shape' class and override the area calculation method. Create an instance ofthe 'Circle' class and calculate its area. Similarly, do the same for the 'Triangle'class"
   ]
  },
  {
   "cell_type": "code",
   "execution_count": 17,
   "id": "d9f37a07-66fe-4c08-8ca7-5457de221993",
   "metadata": {},
   "outputs": [
    {
     "name": "stdout",
     "output_type": "stream",
     "text": [
      "Circle Area:  78.55\n",
      "Triangle Area :  6.0\n"
     ]
    }
   ],
   "source": [
    "class Shape:\n",
    "    def __init__(self):\n",
    "        raise NotImplementedError(\"Subclass must override a calculate_area()\")\n",
    "    \n",
    "class Circle(Shape):\n",
    "    def __init__(self,radius):\n",
    "        self.radius = radius\n",
    "    def calculate_area(self):\n",
    "        pi = 3.142\n",
    "        return pi * self.radius**2\n",
    "class Triangle(Shape):\n",
    "    def __init__(self,base,height):\n",
    "        self.base = base\n",
    "        self.height = height\n",
    "    def calculate_area(self):\n",
    "        return 0.5* self.base* self.height\n",
    "circle = Circle(radius = 5)\n",
    "print(\"Circle Area: \", circle.calculate_area())\n",
    "\n",
    "triangle = Triangle(base=3 , height = 4)\n",
    "print(\"Triangle Area : \",triangle.calculate_area())"
   ]
  },
  {
   "cell_type": "markdown",
   "id": "1dc22eef-3b45-49c4-85b6-78b7bdb27aae",
   "metadata": {},
   "source": [
    "### 6. Write a Python program that creates a class called 'Employee' with properties for name and salary. Include a method to calculate annual salary. Create a subclass called 'Manager' that inherits from the 'Employee' class and adds an additional property for department. Override the annual salary calculation method to include bonuses for managers. Create two instances of the 'Manager'class and calculate their annual salary. "
   ]
  },
  {
   "cell_type": "code",
   "execution_count": 33,
   "id": "18d0f921-152f-4ed1-8849-94ca61de0f38",
   "metadata": {},
   "outputs": [
    {
     "name": "stdout",
     "output_type": "stream",
     "text": [
      " Manager_1 : Saad\n",
      " Department : HR\n",
      " Annual_Salary: 70000\n",
      " Manager_2 : Azeem\n",
      " Department : IT\n",
      " Annual_Salary: 87000\n"
     ]
    }
   ],
   "source": [
    "class Employee:\n",
    "    def __init__(self,name,salary):\n",
    "        self.name = name\n",
    "        self.salary = salary\n",
    "    def calculate_annual_salary(self):\n",
    "        return self.salary * 12\n",
    "class Manager(Employee):\n",
    "    def __init__(self,name, salary,department,bonus=0):\n",
    "        super().__init__(name,salary)\n",
    "        self.department = department\n",
    "        self.bonus = bonus\n",
    "    def calculate_annual_salary(self):\n",
    "        base_salary= super().calculate_annual_salary()\n",
    "        return base_salary + self.bonus\n",
    "\n",
    "manager1 = Manager(name = \"Saad\",salary= 5000,department = \"HR\", bonus=10000)\n",
    "manager2 = Manager(name= \"Azeem\",salary = 6000, department = \"IT\",bonus=15000)\n",
    "print(f\" Manager_1 : {manager1.name}\")\n",
    "print(f\" Department : {manager1.department}\")\n",
    "print(f\" Annual_Salary: {manager1.calculate_annual_salary()}\")\n",
    "\n",
    "print(f\" Manager_2 : {manager2.name}\")\n",
    "print(f\" Department : {manager2.department}\")\n",
    "print(f\" Annual_Salary: {manager2.calculate_annual_salary()}\")"
   ]
  },
  {
   "cell_type": "markdown",
   "id": "9d05757e-4e88-4467-bbed-22bac44bec64",
   "metadata": {},
   "source": [
    "### 7. Write a Python program that creates a class `Book` with properties for title, author, and publication year. Include a method to display book details. Create a subclass called 'Ebook' that inherits from the 'Book' class and includes an additional property for book price. Override the display method to include the book price. Create an instance of the 'Ebook' class and display its details."
   ]
  },
  {
   "cell_type": "code",
   "execution_count": 35,
   "id": "8841de30-bd8a-4345-8dc0-8c024946549a",
   "metadata": {},
   "outputs": [
    {
     "name": "stdout",
     "output_type": "stream",
     "text": [
      " Title: Python\n",
      " Author: Saad\n",
      " Pubication_year: 2021\n",
      " Book_Price: $99\n"
     ]
    }
   ],
   "source": [
    "class Book:\n",
    "    def __init__(self,title,author,publication_year):\n",
    "        self.title = title\n",
    "        self.author = author\n",
    "        self.publication_year = publication_year\n",
    "    def display_book_detail(self):\n",
    "        print (f\" Title: {self.title}\")\n",
    "        print (f\" Author: {self.author}\")\n",
    "        print (f\" Pubication_year: {self.publication_year}\")\n",
    "\n",
    "class EBook(Book):\n",
    "    def __init__(self,title,author,publication_year,book_price=0):\n",
    "        super().__init__(title,author,publication_year)\n",
    "        self.book_price = book_price\n",
    "    def display_book_detail(self):\n",
    "        super().display_book_detail()\n",
    "        print(f\" Book_Price: ${self.book_price}\")\n",
    "\n",
    "ebook = EBook(title= \"Python\", author = \"Saad\",publication_year = 2021, book_price = 99)\n",
    "ebook.display_book_detail()\n",
    "        "
   ]
  },
  {
   "cell_type": "markdown",
   "id": "4bcd8c10-2265-4832-8ca3-29cda93dff7d",
   "metadata": {},
   "source": [
    "### 8. Write a Python program that creates a class called 'Animal' with properties for species and sound. Include a method to make the animal's sound. Create a subclass called 'Dog' that inherits from the 'Animal' class and adds an additional property for color. Override the make sound method to include the dog's color. Create an instance of the 'Dog' class and make it make its sound. \n"
   ]
  },
  {
   "cell_type": "code",
   "execution_count": 71,
   "id": "f185ca25-3fb2-4e14-bddf-a102bc2c2c4b",
   "metadata": {},
   "outputs": [
    {
     "name": "stdout",
     "output_type": "stream",
     "text": [
      "Species : Carnivorus\n",
      "Sound : Woof\n",
      "Dog_Color : Black\n"
     ]
    }
   ],
   "source": [
    "class Animal:\n",
    "    def __init__(self,species,sound):\n",
    "        self.species = species\n",
    "        self.sound = sound\n",
    "    def animals_sound(self):\n",
    "        print(f\"Species : {self.species}\")\n",
    "        print(f\"Sound : {self.sound}\")\n",
    "class Dog(Animal):\n",
    "    def __init__(self,species,sound,color):\n",
    "        super().__init__(species,sound)\n",
    "        self.color = color\n",
    "    def animals_sound(self):\n",
    "        super().animals_sound()\n",
    "        print(f\"Dog_Color : {self.color}\")\n",
    "dog =Dog(species=\"Carnivorus\",sound = \"Woof\",color=\"Black\")\n",
    "dog.animals_sound()"
   ]
  },
  {
   "cell_type": "markdown",
   "id": "930a33a0-d5f7-4e2b-a902-c764eaf31c95",
   "metadata": {},
   "source": [
    "### 9. Write a Python program that creates a class called Bank with properties for bank names and branches. Include methods to add a branch, remove a branch, and display all branches. Create an instance of the Bank class and perform operations to add and remove branches. \n"
   ]
  },
  {
   "cell_type": "code",
   "execution_count": 74,
   "id": "7543d154-a47f-4ee3-8738-24ae1548c82f",
   "metadata": {},
   "outputs": [
    {
     "name": "stdout",
     "output_type": "stream",
     "text": [
      "Branch 'Downtown' added successfully!\n",
      "Branch 'Uptown' added successfully!\n",
      "Branch 'City Center' added successfully!\n",
      "Branches of National Bank:\n",
      "- Downtown\n",
      "- Uptown\n",
      "- City Center\n",
      "Branch 'Uptown' removed successfully!\n",
      "Branch 'Suburb' does not exist.\n",
      "Branches of National Bank:\n",
      "- Downtown\n",
      "- City Center\n"
     ]
    }
   ],
   "source": [
    "class Bank:\n",
    "    def __init__(self, name):\n",
    "        self.name = name\n",
    "        self.branches = []\n",
    "\n",
    "    def add_branch(self, branch_name):\n",
    "        \"\"\"Add a branch to the bank.\"\"\"\n",
    "        if branch_name not in self.branches:\n",
    "            self.branches.append(branch_name)\n",
    "            print(f\"Branch '{branch_name}' added successfully!\")\n",
    "        else:\n",
    "            print(f\"Branch '{branch_name}' already exists.\")\n",
    "\n",
    "    def remove_branch(self, branch_name):\n",
    "        \"\"\"Remove a branch from the bank.\"\"\"\n",
    "        if branch_name in self.branches:\n",
    "            self.branches.remove(branch_name)\n",
    "            print(f\"Branch '{branch_name}' removed successfully!\")\n",
    "        else:\n",
    "            print(f\"Branch '{branch_name}' does not exist.\")\n",
    "\n",
    "    def display_branches(self):\n",
    "        \"\"\"Display all branches of the bank.\"\"\"\n",
    "        if self.branches:\n",
    "            print(f\"Branches of {self.name}:\")\n",
    "            for branch in self.branches:\n",
    "                print(f\"- {branch}\")\n",
    "        else:\n",
    "            print(f\"No branches available for {self.name}.\")\n",
    "\n",
    "bank = Bank(\"National Bank\")\n",
    "\n",
    "bank.add_branch(\"Downtown\")\n",
    "bank.add_branch(\"Uptown\")\n",
    "bank.add_branch(\"City Center\")\n",
    "\n",
    "bank.display_branches()\n",
    "\n",
    "bank.remove_branch(\"Uptown\")\n",
    "bank.remove_branch(\"Suburb\")  \n",
    "\n",
    "bank.display_branches()\n"
   ]
  },
  {
   "cell_type": "markdown",
   "id": "bb3426e6-fe9d-40c1-8140-0bd7afed6d28",
   "metadata": {},
   "source": [
    "### 10. Write a Python program that creates a class called Product with properties for product ID, name, and price. Include a method to calculate the total price by multiplying the price by the quantity. Create a subclass called PersonalCareProduct that inherits from the Product class and adds an additional property for the warranty period. Override the total price calculation method to include the warranty period. Create an instance of the PersonalCareProduct class and calculate its total price. \n"
   ]
  },
  {
   "cell_type": "code",
   "execution_count": 80,
   "id": "215e98fe-c8c8-423f-b8c6-745cad50984c",
   "metadata": {},
   "outputs": [
    {
     "name": "stdout",
     "output_type": "stream",
     "text": [
      "Product: Electric Shaver\n",
      "Quantity: 3\n",
      "Warranty Period: 2 years\n",
      "Total Price: $150.00\n"
     ]
    }
   ],
   "source": [
    "class Product:\n",
    "    def __init__(self, product_id, name, price):\n",
    "        self.product_id = product_id\n",
    "        self.name = name\n",
    "        self.price = price\n",
    "\n",
    "    def calculate_total_price(self, quantity):\n",
    "        \"\"\"Calculate the total price based on the quantity.\"\"\"\n",
    "        return self.price * quantity\n",
    "\n",
    "\n",
    "class PersonalCareProduct(Product):\n",
    "    def __init__(self, product_id, name, price, warranty_period):\n",
    "        super().__init__(product_id, name, price)\n",
    "        self.warranty_period = warranty_period\n",
    "\n",
    "    def calculate_total_price(self, quantity):\n",
    "        \"\"\"Calculate the total price including warranty details.\"\"\"\n",
    "        total_price = super().calculate_total_price(quantity)\n",
    "        print(f\"Warranty Period: {self.warranty_period} years\")\n",
    "        return total_price\n",
    "\n",
    "\n",
    "personal_care_product = PersonalCareProduct(\n",
    "    product_id=101, name=\"Electric Shaver\", price=50.00, warranty_period=2\n",
    ")\n",
    "\n",
    "quantity = 3\n",
    "print(f\"Product: {personal_care_product.name}\")\n",
    "print(f\"Quantity: {quantity}\")\n",
    "print(f\"Total Price: ${personal_care_product.calculate_total_price(quantity):.2f}\")\n"
   ]
  },
  {
   "cell_type": "markdown",
   "id": "83dff03a-1510-44f0-ac1c-a0f15982d22f",
   "metadata": {},
   "source": [
    "### 11. Write a Python program that creates a class called BankAccount with properties for account number, account holder name, and balance. Include methods to deposit, withdraw, and transfer money between accounts. Create multiple instances of the BankAccount class and perform operations such as depositing, withdrawing, and transferring money. \n"
   ]
  },
  {
   "cell_type": "code",
   "execution_count": 83,
   "id": "235a5e5d-f781-43b9-8931-5c9e2eb9b3c5",
   "metadata": {},
   "outputs": [
    {
     "name": "stdout",
     "output_type": "stream",
     "text": [
      "\n",
      "Initial Balances:\n",
      "Account Holder: Alice\n",
      "Account Number: 123456\n",
      "Balance: $500.00\n",
      "Account Holder: Bob\n",
      "Account Number: 789012\n",
      "Balance: $300.00\n",
      "\n",
      "Depositing into Alice's account:\n",
      "Deposited $200.00 into Alice's account.\n",
      "\n",
      "Withdrawing from Bob's account:\n",
      "Withdrew $100.00 from Bob's account.\n",
      "\n",
      "Transferring money from Alice to Bob:\n",
      "Transferred $150.00 from Alice to Bob.\n",
      "\n",
      "Final Balances:\n",
      "Account Holder: Alice\n",
      "Account Number: 123456\n",
      "Balance: $550.00\n",
      "Account Holder: Bob\n",
      "Account Number: 789012\n",
      "Balance: $350.00\n"
     ]
    }
   ],
   "source": [
    "class BankAccount:\n",
    "    def __init__(self, account_number, account_holder, balance=0.0):\n",
    "        self.account_number = account_number\n",
    "        self.account_holder = account_holder\n",
    "        self.balance = balance\n",
    "\n",
    "    def deposit(self, amount):\n",
    "        \"\"\"Deposit money into the account.\"\"\"\n",
    "        if amount > 0:\n",
    "            self.balance += amount\n",
    "            print(f\"Deposited ${amount:.2f} into {self.account_holder}'s account.\")\n",
    "        else:\n",
    "            print(\"Deposit amount must be greater than 0.\")\n",
    "\n",
    "    def withdraw(self, amount):\n",
    "        \"\"\"Withdraw money from the account.\"\"\"\n",
    "        if amount > self.balance:\n",
    "            print(\"Insufficient balance.\")\n",
    "        elif amount > 0:\n",
    "            self.balance -= amount\n",
    "            print(f\"Withdrew ${amount:.2f} from {self.account_holder}'s account.\")\n",
    "        else:\n",
    "            print(\"Withdrawal amount must be greater than 0.\")\n",
    "\n",
    "    def transfer(self, amount, target_account):\n",
    "        \"\"\"Transfer money to another account.\"\"\"\n",
    "        if amount > self.balance:\n",
    "            print(\"Insufficient balance for transfer.\")\n",
    "        elif amount > 0:\n",
    "            self.balance -= amount\n",
    "            target_account.balance += amount\n",
    "            print(f\"Transferred ${amount:.2f} from {self.account_holder} to {target_account.account_holder}.\")\n",
    "        else:\n",
    "            print(\"Transfer amount must be greater than 0.\")\n",
    "\n",
    "    def display_balance(self):\n",
    "        \"\"\"Display the account balance.\"\"\"\n",
    "        print(f\"Account Holder: {self.account_holder}\")\n",
    "        print(f\"Account Number: {self.account_number}\")\n",
    "        print(f\"Balance: ${self.balance:.2f}\")\n",
    "\n",
    "\n",
    "account1 = BankAccount(account_number=\"123456\", account_holder=\"Alice\", balance=500.0)\n",
    "account2 = BankAccount(account_number=\"789012\", account_holder=\"Bob\", balance=300.0)\n",
    "\n",
    "print(\"\\nInitial Balances:\")\n",
    "account1.display_balance()\n",
    "account2.display_balance()\n",
    "\n",
    "print(\"\\nDepositing into Alice's account:\")\n",
    "account1.deposit(200)\n",
    "\n",
    "print(\"\\nWithdrawing from Bob's account:\")\n",
    "account2.withdraw(100)\n",
    "\n",
    "print(\"\\nTransferring money from Alice to Bob:\")\n",
    "account1.transfer(150, account2)\n",
    "\n",
    "print(\"\\nFinal Balances:\")\n",
    "account1.display_balance()\n",
    "account2.display_balance()\n"
   ]
  },
  {
   "cell_type": "markdown",
   "id": "23f5b121-75d5-4abf-8aca-b24f65d4f162",
   "metadata": {},
   "source": [
    "### 12. Write a Python program that creates a class called University with properties for university name and departments. Include methods to add a department, remove a department, and display all departments. Create an instance of the University class and add and remove departments. "
   ]
  },
  {
   "cell_type": "code",
   "execution_count": 87,
   "id": "55eccb38-900c-4175-96e2-5f273508b729",
   "metadata": {},
   "outputs": [
    {
     "name": "stdout",
     "output_type": "stream",
     "text": [
      "\n",
      "Adding Departments:\n",
      "Department 'Computer Science' added successfully!\n",
      "Department 'Biotechnology' added successfully!\n",
      "Department 'Mathematics' added successfully!\n",
      "\n",
      "Displaying Departments:\n",
      "Departments in National University:\n",
      "- Computer Science\n",
      "- Biotechnology\n",
      "- Mathematics\n",
      "\n",
      "Removing a Department:\n",
      "Department 'Biotechnology' removed successfully!\n",
      "Department 'Physics' does not exist.\n",
      "\n",
      "Displaying Departments After Removal:\n",
      "Departments in National University:\n",
      "- Computer Science\n",
      "- Mathematics\n"
     ]
    }
   ],
   "source": [
    "class University:\n",
    "    def __init__(self, name):\n",
    "        self.name = name\n",
    "        self.departments = []\n",
    "\n",
    "    def add_department(self, department_name):\n",
    "        \"\"\"Add a department to the university.\"\"\"\n",
    "        if department_name not in self.departments:\n",
    "            self.departments.append(department_name)\n",
    "            print(f\"Department '{department_name}' added successfully!\")\n",
    "        else:\n",
    "            print(f\"Department '{department_name}' already exists.\")\n",
    "\n",
    "    def remove_department(self, department_name):\n",
    "        \"\"\"Remove a department from the university.\"\"\"\n",
    "        if department_name in self.departments:\n",
    "            self.departments.remove(department_name)\n",
    "            print(f\"Department '{department_name}' removed successfully!\")\n",
    "        else:\n",
    "            print(f\"Department '{department_name}' does not exist.\")\n",
    "\n",
    "    def display_departments(self):\n",
    "        \"\"\"Display all departments in the university.\"\"\"\n",
    "        if self.departments:\n",
    "            print(f\"Departments in {self.name}:\")\n",
    "            for department in self.departments:\n",
    "                print(f\"- {department}\")\n",
    "        else:\n",
    "            print(f\"No departments available in {self.name}.\")\n",
    "\n",
    "university = University(\"National University\")\n",
    "\n",
    "print(\"\\nAdding Departments:\")\n",
    "university.add_department(\"Computer Science\")\n",
    "university.add_department(\"Biotechnology\")\n",
    "university.add_department(\"Mathematics\")\n",
    "\n",
    "print(\"\\nDisplaying Departments:\")\n",
    "university.display_departments()\n",
    "\n",
    "print(\"\\nRemoving a Department:\")\n",
    "university.remove_department(\"Biotechnology\")\n",
    "\n",
    "university.remove_department(\"Physics\")\n",
    "\n",
    "print(\"\\nDisplaying Departments After Removal:\")\n",
    "university.display_departments()\n"
   ]
  },
  {
   "cell_type": "code",
   "execution_count": null,
   "id": "91e29b94-1c56-4561-ba5a-983b2f07bf91",
   "metadata": {},
   "outputs": [],
   "source": []
  }
 ],
 "metadata": {
  "kernelspec": {
   "display_name": "Python 3 (ipykernel)",
   "language": "python",
   "name": "python3"
  },
  "language_info": {
   "codemirror_mode": {
    "name": "ipython",
    "version": 3
   },
   "file_extension": ".py",
   "mimetype": "text/x-python",
   "name": "python",
   "nbconvert_exporter": "python",
   "pygments_lexer": "ipython3",
   "version": "3.12.7"
  }
 },
 "nbformat": 4,
 "nbformat_minor": 5
}
